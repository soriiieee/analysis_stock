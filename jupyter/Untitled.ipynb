{
 "cells": [
  {
   "cell_type": "code",
   "execution_count": 4,
   "metadata": {},
   "outputs": [],
   "source": [
    "import os,sys,glob\n",
    "sys.path.append(\"..\")\n",
    "# from py.utils_001_stock import *\n",
    "# sys.path\n",
    "import matplotlib.pyplot as plt\n",
    "import numpy as np\n",
    "import pandas as pd"
   ]
  },
  {
   "cell_type": "code",
   "execution_count": 10,
   "metadata": {},
   "outputs": [
    {
     "name": "stdout",
     "output_type": "stream",
     "text": [
      "['3405_クラレ.csv', '3407_旭化成.csv', '4004_昭和電工.csv', '4005_住友化学.csv', '4042_東ソー.csv', '4043_トクヤマ.csv', '4061_デンカ.csv', '4063_信越化学工業.csv', '4088_エア・ウォーター.csv', '4091_日本酸素ホールディングス.csv', '4118_カネカ.csv', '4182_三菱瓦斯化学.csv', '4183_三井化学.csv', '4185_ＪＳＲ.csv', '4188_三菱ケミカルホールディングス.csv', '4202_ダイセル.csv', '4204_積水化学工業.csv', '4205_日本ゼオン.csv', '4208_宇部興産.csv', '4401_ＡＤＥＫＡ.csv', '4452_花王.csv', '4612_日本ペイントホールディングス.csv', '4613_関西ペイント.csv', '4631_ＤＩＣ.csv', '4901_富士フイルムホールディングス.csv', '4911_資生堂.csv', '4912_ライオン.csv', '4922_コーセー.csv', '6988_日東電工.csv', '8113_ユニ・チャーム.csv']\n"
     ]
    }
   ],
   "source": [
    "DHOME=\"/Users/soriiieee/work2/stock/out/ts1\"\n",
    "COL, cate = \"name33\",\"化学\"\n",
    "_FILE = sorted(os.listdir(os.path.join(DHOME,COL,cate)))\n",
    "_PATH = [ os.path.join(DHOME,COL,cate,FNAME) for FNAME in _FILE]\n",
    "print(_FILE)"
   ]
  },
  {
   "cell_type": "code",
   "execution_count": 13,
   "metadata": {},
   "outputs": [
    {
     "name": "stdout",
     "output_type": "stream",
     "text": [
      "/Users/soriiieee/work2/stock/out/ts1/name33/化学/3405_クラレ.csv\n",
      "                  time    open   close    high     low  diff_max  diff_day  \\\n",
      "0  2000-01-04 00:00:00  1022.0  1030.0  1038.0  1022.0      16.0       8.0   \n",
      "1  2000-01-05 00:00:00  1044.0  1032.0  1059.0  1031.0      28.0     -12.0   \n",
      "2  2000-01-06 00:00:00  1033.0  1018.0  1033.0  1015.0      18.0     -15.0   \n",
      "3  2000-01-07 00:00:00  1015.0  1035.0  1045.0  1011.0      34.0      20.0   \n",
      "4  2000-01-10 00:00:00     NaN     NaN     NaN     NaN       NaN       NaN   \n",
      "\n",
      "      volume  log_diff  \n",
      "0   208000.0       NaN  \n",
      "1   638000.0    0.0019  \n",
      "2  1230000.0   -0.0137  \n",
      "3   604000.0    0.0166  \n",
      "4        NaN       NaN  \n"
     ]
    }
   ],
   "source": [
    "def plot_ts(code):\n",
    "    path = [ fname for fname in _PATH if str(code) in fname][0]\n",
    "    print(path)\n",
    "    df = pd.read_csv(path)\n",
    "    print(df.head())\n",
    "    return \n",
    "\n",
    "plot_ts(3405)"
   ]
  },
  {
   "cell_type": "code",
   "execution_count": null,
   "metadata": {},
   "outputs": [],
   "source": []
  }
 ],
 "metadata": {
  "kernelspec": {
   "display_name": "Python 3",
   "language": "python",
   "name": "python3"
  },
  "language_info": {
   "codemirror_mode": {
    "name": "ipython",
    "version": 3
   },
   "file_extension": ".py",
   "mimetype": "text/x-python",
   "name": "python",
   "nbconvert_exporter": "python",
   "pygments_lexer": "ipython3",
   "version": "3.7.3"
  }
 },
 "nbformat": 4,
 "nbformat_minor": 2
}
