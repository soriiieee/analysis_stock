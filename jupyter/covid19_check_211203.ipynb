{
 "cells": [
  {
   "cell_type": "code",
   "execution_count": 1,
   "id": "ca2b7c09",
   "metadata": {},
   "outputs": [],
   "source": [
    "\"\"\"\n",
    "https://irbank.net/download\n",
    "からcsvデータを取得して、決算情報等を更新して学習するときに便利なようにするprogram\n",
    "init   : 2021/10/26 init\n",
    "update : 2021/11/03 select_dd & timeSeries making ---> \n",
    "update : 2021/12/03 select_dd2 (前後数週間の増減について)\n",
    "\n",
    "\"\"\"\n",
    "import os\n",
    "# os.makedirs(new_dir_path_recursive, exist_ok=True)\n",
    "import sys\n",
    "from datetime import datetime,timedelta\n",
    "import pandas as pd\n",
    "import  numpy as np\n",
    "import subprocess\n",
    "from tqdm import tqdm\n",
    "#science  ----------------\n",
    "# from scipy.integrate import solve_ivp\n",
    "import matplotlib.pyplot as plt\n",
    "# plt.rcParams['font.family'] = 'Meiryo'\n",
    "\n",
    "# from matplotlib.animation import FuncAnimation\n",
    "import numpy as np\n",
    "# from scipy.integrate._ivp.radau import P\n",
    "# from scipy.integrate._ivp.radau import P\n",
    "from sklearn.preprocessing import MinMaxScaler\n",
    "import time\n",
    "import warnings \n",
    "warnings.simplefilter(\"ignore\")\n",
    "import json\n",
    "import pandas as pd\n",
    "import plotly\n",
    "import plotly.express as px\n",
    "\n",
    "# stock module ----------------\n",
    "HOME=\"/home/ysorimachi/work/sori_py2/COVID-19\"\n",
    "SOME=\"/home/ysorimachi/work/sori_py2/analysis_stock\"\n",
    "sys.path.append(f\"{SOME}/py_covid\")\n",
    "from utils import *\n",
    "\n",
    "# from utils_data import check_cate, get_stock"
   ]
  },
  {
   "cell_type": "code",
   "execution_count": 2,
   "id": "d9803002",
   "metadata": {},
   "outputs": [],
   "source": [
    "freq = 7\n",
    "n=10\n",
    "df_c, df_d, df_r = select_dd2(dd=\"20211130\",freq=freq,n=n) #2021.12.02"
   ]
  },
  {
   "cell_type": "code",
   "execution_count": 3,
   "id": "5f3f9d2f",
   "metadata": {},
   "outputs": [],
   "source": [
    "# df_c = df_c.sort_values(\"Confirmed-0(~1130)\",ascending=False)\n",
    "# df_c.head(100)"
   ]
  },
  {
   "cell_type": "code",
   "execution_count": 7,
   "id": "7db62ef4",
   "metadata": {},
   "outputs": [],
   "source": [
    "def mk_diff(df,col =\"Confirmed\"):\n",
    "    #　新規感染者数の平均\n",
    "    use_col = [ c for c in df.columns if col in c]\n",
    "    df = df[use_col].T\n",
    "    df = df.iloc[::-1,:]\n",
    "\n",
    "    df = df.diff().T / freq\n",
    "    return df\n",
    "\n",
    "def plotly_map(df,col,vmin=None,vmax=None,color='RdBu_r'):\n",
    "    \"\"\"\n",
    "     < 2021.12.03 > \n",
    "    location name = [ iso3 format ]\n",
    "    color = 'Jet'\n",
    "    color = 'RdBu_r'\n",
    "    \"\"\"\n",
    "    if vmin==None:\n",
    "        vmin = np.min(df[col])\n",
    "        vmax = np.max(df[col])\n",
    "        \n",
    "    fig = px.choropleth(\n",
    "        df,locations = \"iso3\",\n",
    "        color=col,#Deaths\n",
    "#         hover_name=[col,\"rank\"],\n",
    "        hover_name=\"rank\",\n",
    "        range_color=[vmin,vmax],\n",
    "                                # animation_frame='date',\n",
    "                              projection=\"natural earth\",\n",
    "                              color_continuous_scale=color\n",
    "                              # https://plotly.com/python/builtin-colorscales/\n",
    "        )\n",
    "      # sys.exit()\n",
    "    fig.show()\n",
    "    return"
   ]
  },
  {
   "cell_type": "code",
   "execution_count": 10,
   "id": "13f5efc7",
   "metadata": {},
   "outputs": [
    {
     "name": "stdout",
     "output_type": "stream",
     "text": [
      "shape=> (100, 12)\n"
     ]
    },
    {
     "data": {
      "application/vnd.plotly.v1+json": {
       "config": {
        "plotlyServerURL": "https://plot.ly"
       },
       "data": [
        {
         "coloraxis": "coloraxis",
         "geo": "geo",
         "hovertemplate": "<b>%{hovertext}</b><br><br>iso3=%{location}<br>Confirmed-0(~1130)=%{z}<extra></extra>",
         "hovertext": [
          1,
          2,
          3,
          4,
          5,
          6,
          7,
          8,
          9,
          10,
          11,
          12,
          13,
          14,
          15,
          16,
          17,
          18,
          19,
          20,
          21,
          22,
          23,
          24,
          25,
          26,
          27,
          28,
          29,
          30,
          31,
          32,
          33,
          34,
          35,
          36,
          37,
          38,
          39,
          40,
          41,
          42,
          43,
          44,
          45,
          46,
          47,
          48,
          49,
          50,
          51,
          52,
          53,
          54,
          55,
          56,
          57,
          58,
          59,
          60,
          61,
          62,
          63,
          64,
          65,
          66,
          67,
          68,
          69,
          70,
          71,
          72,
          73,
          74,
          75,
          76,
          77,
          78,
          79,
          80,
          81,
          82,
          83,
          84,
          85,
          86,
          87,
          88,
          89,
          90,
          91,
          92,
          93,
          94,
          95,
          96,
          97,
          98,
          99,
          100
         ],
         "locations": [
          "CYM",
          "SVK",
          "CZE",
          "BEL",
          "AND",
          "LIE",
          "NLD",
          "AUT",
          "FRO",
          "HRV",
          "GIB",
          "SVN",
          "HUN",
          "IMN",
          "BES",
          "GEO",
          "IRL",
          "SMR",
          "CHE",
          "DMA",
          "DNK",
          "DEU",
          "REU",
          "LTU",
          "GBR",
          "POL",
          "GRC",
          "SYC",
          "NOR",
          "LUX",
          "BRB",
          "AIA",
          "SPM",
          "FRA",
          "MCO",
          "MNE",
          "TTO",
          "LVA",
          "EST",
          "JOR",
          "GRL",
          "CYP",
          "ISL",
          "BGR",
          "UKR",
          "PRT",
          "TUR",
          "SRB",
          "USA",
          "MUS",
          "SGP",
          "RUS",
          "LBN",
          "MTQ",
          "FIN",
          "BLZ",
          "ITA",
          "BIH",
          "MLT",
          "MDV",
          "MKD",
          "ESP",
          "LAO",
          "ARM",
          "SWE",
          "BLR",
          "MNG",
          "ABW",
          "AZE",
          "MYS",
          "MDA",
          "GUF",
          "VCT",
          "VNM",
          "ALB",
          "CHL",
          "BRN",
          "NCL",
          "ROU",
          "BLM",
          "THA",
          "GUY",
          "SUR",
          "SXM",
          "KOR",
          "LBY",
          "CAN",
          "BOL",
          "GUM",
          "LCA",
          "MAF",
          "URY",
          "ISR",
          "MYT",
          "BMU",
          "AUS",
          "QAT",
          "IRN",
          "KAZ",
          "COL"
         ],
         "name": "",
         "type": "choropleth",
         "z": [
          2136.770715589949,
          2027.7620977886545,
          1760.5114766544305,
          1620.4158071984627,
          1429.2185521073075,
          1337.284002412356,
          1291.7015992556699,
          1269.9382026749247,
          1116.779465290668,
          1098.6580448062657,
          1068.534623489952,
          1059.6787196502805,
          1048.3648551627473,
          1039.9446258887413,
          953.43427024141,
          947.6001572111646,
          921.7530597514706,
          867.1274508978531,
          866.5398552046348,
          765.9687619682621,
          719.5214565581201,
          699.1089759972363,
          640.641464804769,
          629.7216992179456,
          626.9270382827547,
          612.8611611454793,
          607.8283155562573,
          579.6217205613169,
          553.9321063328296,
          544.2928893668244,
          537.8810964621641,
          495.17207229512235,
          493.03586835942326,
          481.26662049702594,
          458.6688410967285,
          457.4161695592338,
          447.71379635269426,
          446.9298622310868,
          428.61267446447164,
          423.13304671755134,
          412.67828205050836,
          407.61864690250826,
          373.417059131344,
          309.91517834976963,
          297.1911404708143,
          293.2459329411816,
          289.66071305619596,
          261.340491638627,
          248.36402281738785,
          231.51141005276233,
          226.94640052972682,
          225.4534574728168,
          213.77998042366485,
          212.4213175070576,
          206.5487850904106,
          204.78941360886841,
          204.17132324499627,
          198.8617375342936,
          191.86138872055744,
          186.58521050564428,
          186.51010788786724,
          185.98249998446929,
          181.74359654241042,
          175.4839476058925,
          173.97297032359762,
          171.53159923947325,
          169.20832119722243,
          165.91691844112938,
          163.65095920385232,
          157.58159888305403,
          154.86366278379032,
          147.79215735416594,
          142.9253865101616,
          138.1261118214552,
          137.90296158772253,
          117.22288361971525,
          116.57595838009729,
          102.58016640004227,
          94.16043842644805,
          86.71146759158832,
          81.32831052918534,
          77.91623296626702,
          77.19585684722448,
          76.62222577571603,
          76.02729192811914,
          75.86434888918406,
          75.5408329951606,
          75.03255092205654,
          71.32897182766465,
          70.79491801403803,
          66.51565150232844,
          60.9473011881138,
          60.62177808576962,
          59.17187649729645,
          55.0571102816861,
          53.52997650628822,
          53.15503916713143,
          50.065424621311,
          48.859929029545,
          47.47877779209687
         ]
        }
       ],
       "layout": {
        "coloraxis": {
         "cmax": 2136.770715589949,
         "cmin": 47.47877779209687,
         "colorbar": {
          "title": {
           "text": "Confirmed-0(~1130)"
          }
         },
         "colorscale": [
          [
           0,
           "rgb(0,0,131)"
          ],
          [
           0.2,
           "rgb(0,60,170)"
          ],
          [
           0.4,
           "rgb(5,255,255)"
          ],
          [
           0.6,
           "rgb(255,255,0)"
          ],
          [
           0.8,
           "rgb(250,0,0)"
          ],
          [
           1,
           "rgb(128,0,0)"
          ]
         ]
        },
        "geo": {
         "center": {},
         "domain": {
          "x": [
           0,
           1
          ],
          "y": [
           0,
           1
          ]
         },
         "projection": {
          "type": "natural earth"
         }
        },
        "legend": {
         "tracegroupgap": 0
        },
        "margin": {
         "t": 60
        },
        "template": {
         "data": {
          "bar": [
           {
            "error_x": {
             "color": "#2a3f5f"
            },
            "error_y": {
             "color": "#2a3f5f"
            },
            "marker": {
             "line": {
              "color": "#E5ECF6",
              "width": 0.5
             }
            },
            "type": "bar"
           }
          ],
          "barpolar": [
           {
            "marker": {
             "line": {
              "color": "#E5ECF6",
              "width": 0.5
             }
            },
            "type": "barpolar"
           }
          ],
          "carpet": [
           {
            "aaxis": {
             "endlinecolor": "#2a3f5f",
             "gridcolor": "white",
             "linecolor": "white",
             "minorgridcolor": "white",
             "startlinecolor": "#2a3f5f"
            },
            "baxis": {
             "endlinecolor": "#2a3f5f",
             "gridcolor": "white",
             "linecolor": "white",
             "minorgridcolor": "white",
             "startlinecolor": "#2a3f5f"
            },
            "type": "carpet"
           }
          ],
          "choropleth": [
           {
            "colorbar": {
             "outlinewidth": 0,
             "ticks": ""
            },
            "type": "choropleth"
           }
          ],
          "contour": [
           {
            "colorbar": {
             "outlinewidth": 0,
             "ticks": ""
            },
            "colorscale": [
             [
              0,
              "#0d0887"
             ],
             [
              0.1111111111111111,
              "#46039f"
             ],
             [
              0.2222222222222222,
              "#7201a8"
             ],
             [
              0.3333333333333333,
              "#9c179e"
             ],
             [
              0.4444444444444444,
              "#bd3786"
             ],
             [
              0.5555555555555556,
              "#d8576b"
             ],
             [
              0.6666666666666666,
              "#ed7953"
             ],
             [
              0.7777777777777778,
              "#fb9f3a"
             ],
             [
              0.8888888888888888,
              "#fdca26"
             ],
             [
              1,
              "#f0f921"
             ]
            ],
            "type": "contour"
           }
          ],
          "contourcarpet": [
           {
            "colorbar": {
             "outlinewidth": 0,
             "ticks": ""
            },
            "type": "contourcarpet"
           }
          ],
          "heatmap": [
           {
            "colorbar": {
             "outlinewidth": 0,
             "ticks": ""
            },
            "colorscale": [
             [
              0,
              "#0d0887"
             ],
             [
              0.1111111111111111,
              "#46039f"
             ],
             [
              0.2222222222222222,
              "#7201a8"
             ],
             [
              0.3333333333333333,
              "#9c179e"
             ],
             [
              0.4444444444444444,
              "#bd3786"
             ],
             [
              0.5555555555555556,
              "#d8576b"
             ],
             [
              0.6666666666666666,
              "#ed7953"
             ],
             [
              0.7777777777777778,
              "#fb9f3a"
             ],
             [
              0.8888888888888888,
              "#fdca26"
             ],
             [
              1,
              "#f0f921"
             ]
            ],
            "type": "heatmap"
           }
          ],
          "heatmapgl": [
           {
            "colorbar": {
             "outlinewidth": 0,
             "ticks": ""
            },
            "colorscale": [
             [
              0,
              "#0d0887"
             ],
             [
              0.1111111111111111,
              "#46039f"
             ],
             [
              0.2222222222222222,
              "#7201a8"
             ],
             [
              0.3333333333333333,
              "#9c179e"
             ],
             [
              0.4444444444444444,
              "#bd3786"
             ],
             [
              0.5555555555555556,
              "#d8576b"
             ],
             [
              0.6666666666666666,
              "#ed7953"
             ],
             [
              0.7777777777777778,
              "#fb9f3a"
             ],
             [
              0.8888888888888888,
              "#fdca26"
             ],
             [
              1,
              "#f0f921"
             ]
            ],
            "type": "heatmapgl"
           }
          ],
          "histogram": [
           {
            "marker": {
             "colorbar": {
              "outlinewidth": 0,
              "ticks": ""
             }
            },
            "type": "histogram"
           }
          ],
          "histogram2d": [
           {
            "colorbar": {
             "outlinewidth": 0,
             "ticks": ""
            },
            "colorscale": [
             [
              0,
              "#0d0887"
             ],
             [
              0.1111111111111111,
              "#46039f"
             ],
             [
              0.2222222222222222,
              "#7201a8"
             ],
             [
              0.3333333333333333,
              "#9c179e"
             ],
             [
              0.4444444444444444,
              "#bd3786"
             ],
             [
              0.5555555555555556,
              "#d8576b"
             ],
             [
              0.6666666666666666,
              "#ed7953"
             ],
             [
              0.7777777777777778,
              "#fb9f3a"
             ],
             [
              0.8888888888888888,
              "#fdca26"
             ],
             [
              1,
              "#f0f921"
             ]
            ],
            "type": "histogram2d"
           }
          ],
          "histogram2dcontour": [
           {
            "colorbar": {
             "outlinewidth": 0,
             "ticks": ""
            },
            "colorscale": [
             [
              0,
              "#0d0887"
             ],
             [
              0.1111111111111111,
              "#46039f"
             ],
             [
              0.2222222222222222,
              "#7201a8"
             ],
             [
              0.3333333333333333,
              "#9c179e"
             ],
             [
              0.4444444444444444,
              "#bd3786"
             ],
             [
              0.5555555555555556,
              "#d8576b"
             ],
             [
              0.6666666666666666,
              "#ed7953"
             ],
             [
              0.7777777777777778,
              "#fb9f3a"
             ],
             [
              0.8888888888888888,
              "#fdca26"
             ],
             [
              1,
              "#f0f921"
             ]
            ],
            "type": "histogram2dcontour"
           }
          ],
          "mesh3d": [
           {
            "colorbar": {
             "outlinewidth": 0,
             "ticks": ""
            },
            "type": "mesh3d"
           }
          ],
          "parcoords": [
           {
            "line": {
             "colorbar": {
              "outlinewidth": 0,
              "ticks": ""
             }
            },
            "type": "parcoords"
           }
          ],
          "pie": [
           {
            "automargin": true,
            "type": "pie"
           }
          ],
          "scatter": [
           {
            "marker": {
             "colorbar": {
              "outlinewidth": 0,
              "ticks": ""
             }
            },
            "type": "scatter"
           }
          ],
          "scatter3d": [
           {
            "line": {
             "colorbar": {
              "outlinewidth": 0,
              "ticks": ""
             }
            },
            "marker": {
             "colorbar": {
              "outlinewidth": 0,
              "ticks": ""
             }
            },
            "type": "scatter3d"
           }
          ],
          "scattercarpet": [
           {
            "marker": {
             "colorbar": {
              "outlinewidth": 0,
              "ticks": ""
             }
            },
            "type": "scattercarpet"
           }
          ],
          "scattergeo": [
           {
            "marker": {
             "colorbar": {
              "outlinewidth": 0,
              "ticks": ""
             }
            },
            "type": "scattergeo"
           }
          ],
          "scattergl": [
           {
            "marker": {
             "colorbar": {
              "outlinewidth": 0,
              "ticks": ""
             }
            },
            "type": "scattergl"
           }
          ],
          "scattermapbox": [
           {
            "marker": {
             "colorbar": {
              "outlinewidth": 0,
              "ticks": ""
             }
            },
            "type": "scattermapbox"
           }
          ],
          "scatterpolar": [
           {
            "marker": {
             "colorbar": {
              "outlinewidth": 0,
              "ticks": ""
             }
            },
            "type": "scatterpolar"
           }
          ],
          "scatterpolargl": [
           {
            "marker": {
             "colorbar": {
              "outlinewidth": 0,
              "ticks": ""
             }
            },
            "type": "scatterpolargl"
           }
          ],
          "scatterternary": [
           {
            "marker": {
             "colorbar": {
              "outlinewidth": 0,
              "ticks": ""
             }
            },
            "type": "scatterternary"
           }
          ],
          "surface": [
           {
            "colorbar": {
             "outlinewidth": 0,
             "ticks": ""
            },
            "colorscale": [
             [
              0,
              "#0d0887"
             ],
             [
              0.1111111111111111,
              "#46039f"
             ],
             [
              0.2222222222222222,
              "#7201a8"
             ],
             [
              0.3333333333333333,
              "#9c179e"
             ],
             [
              0.4444444444444444,
              "#bd3786"
             ],
             [
              0.5555555555555556,
              "#d8576b"
             ],
             [
              0.6666666666666666,
              "#ed7953"
             ],
             [
              0.7777777777777778,
              "#fb9f3a"
             ],
             [
              0.8888888888888888,
              "#fdca26"
             ],
             [
              1,
              "#f0f921"
             ]
            ],
            "type": "surface"
           }
          ],
          "table": [
           {
            "cells": {
             "fill": {
              "color": "#EBF0F8"
             },
             "line": {
              "color": "white"
             }
            },
            "header": {
             "fill": {
              "color": "#C8D4E3"
             },
             "line": {
              "color": "white"
             }
            },
            "type": "table"
           }
          ]
         },
         "layout": {
          "annotationdefaults": {
           "arrowcolor": "#2a3f5f",
           "arrowhead": 0,
           "arrowwidth": 1
          },
          "coloraxis": {
           "colorbar": {
            "outlinewidth": 0,
            "ticks": ""
           }
          },
          "colorscale": {
           "diverging": [
            [
             0,
             "#8e0152"
            ],
            [
             0.1,
             "#c51b7d"
            ],
            [
             0.2,
             "#de77ae"
            ],
            [
             0.3,
             "#f1b6da"
            ],
            [
             0.4,
             "#fde0ef"
            ],
            [
             0.5,
             "#f7f7f7"
            ],
            [
             0.6,
             "#e6f5d0"
            ],
            [
             0.7,
             "#b8e186"
            ],
            [
             0.8,
             "#7fbc41"
            ],
            [
             0.9,
             "#4d9221"
            ],
            [
             1,
             "#276419"
            ]
           ],
           "sequential": [
            [
             0,
             "#0d0887"
            ],
            [
             0.1111111111111111,
             "#46039f"
            ],
            [
             0.2222222222222222,
             "#7201a8"
            ],
            [
             0.3333333333333333,
             "#9c179e"
            ],
            [
             0.4444444444444444,
             "#bd3786"
            ],
            [
             0.5555555555555556,
             "#d8576b"
            ],
            [
             0.6666666666666666,
             "#ed7953"
            ],
            [
             0.7777777777777778,
             "#fb9f3a"
            ],
            [
             0.8888888888888888,
             "#fdca26"
            ],
            [
             1,
             "#f0f921"
            ]
           ],
           "sequentialminus": [
            [
             0,
             "#0d0887"
            ],
            [
             0.1111111111111111,
             "#46039f"
            ],
            [
             0.2222222222222222,
             "#7201a8"
            ],
            [
             0.3333333333333333,
             "#9c179e"
            ],
            [
             0.4444444444444444,
             "#bd3786"
            ],
            [
             0.5555555555555556,
             "#d8576b"
            ],
            [
             0.6666666666666666,
             "#ed7953"
            ],
            [
             0.7777777777777778,
             "#fb9f3a"
            ],
            [
             0.8888888888888888,
             "#fdca26"
            ],
            [
             1,
             "#f0f921"
            ]
           ]
          },
          "colorway": [
           "#636efa",
           "#EF553B",
           "#00cc96",
           "#ab63fa",
           "#FFA15A",
           "#19d3f3",
           "#FF6692",
           "#B6E880",
           "#FF97FF",
           "#FECB52"
          ],
          "font": {
           "color": "#2a3f5f"
          },
          "geo": {
           "bgcolor": "white",
           "lakecolor": "white",
           "landcolor": "#E5ECF6",
           "showlakes": true,
           "showland": true,
           "subunitcolor": "white"
          },
          "hoverlabel": {
           "align": "left"
          },
          "hovermode": "closest",
          "mapbox": {
           "style": "light"
          },
          "paper_bgcolor": "white",
          "plot_bgcolor": "#E5ECF6",
          "polar": {
           "angularaxis": {
            "gridcolor": "white",
            "linecolor": "white",
            "ticks": ""
           },
           "bgcolor": "#E5ECF6",
           "radialaxis": {
            "gridcolor": "white",
            "linecolor": "white",
            "ticks": ""
           }
          },
          "scene": {
           "xaxis": {
            "backgroundcolor": "#E5ECF6",
            "gridcolor": "white",
            "gridwidth": 2,
            "linecolor": "white",
            "showbackground": true,
            "ticks": "",
            "zerolinecolor": "white"
           },
           "yaxis": {
            "backgroundcolor": "#E5ECF6",
            "gridcolor": "white",
            "gridwidth": 2,
            "linecolor": "white",
            "showbackground": true,
            "ticks": "",
            "zerolinecolor": "white"
           },
           "zaxis": {
            "backgroundcolor": "#E5ECF6",
            "gridcolor": "white",
            "gridwidth": 2,
            "linecolor": "white",
            "showbackground": true,
            "ticks": "",
            "zerolinecolor": "white"
           }
          },
          "shapedefaults": {
           "line": {
            "color": "#2a3f5f"
           }
          },
          "ternary": {
           "aaxis": {
            "gridcolor": "white",
            "linecolor": "white",
            "ticks": ""
           },
           "baxis": {
            "gridcolor": "white",
            "linecolor": "white",
            "ticks": ""
           },
           "bgcolor": "#E5ECF6",
           "caxis": {
            "gridcolor": "white",
            "linecolor": "white",
            "ticks": ""
           }
          },
          "title": {
           "x": 0.05
          },
          "xaxis": {
           "automargin": true,
           "gridcolor": "white",
           "linecolor": "white",
           "ticks": "",
           "title": {
            "standoff": 15
           },
           "zerolinecolor": "white",
           "zerolinewidth": 2
          },
          "yaxis": {
           "automargin": true,
           "gridcolor": "white",
           "linecolor": "white",
           "ticks": "",
           "title": {
            "standoff": 15
           },
           "zerolinecolor": "white",
           "zerolinewidth": 2
          }
         }
        }
       }
      },
      "text/html": [
       "<div>                            <div id=\"a3827d8b-c92d-4555-a488-200f7f71d7ad\" class=\"plotly-graph-div\" style=\"height:525px; width:100%;\"></div>            <script type=\"text/javascript\">                require([\"plotly\"], function(Plotly) {                    window.PLOTLYENV=window.PLOTLYENV || {};                                    if (document.getElementById(\"a3827d8b-c92d-4555-a488-200f7f71d7ad\")) {                    Plotly.newPlot(                        \"a3827d8b-c92d-4555-a488-200f7f71d7ad\",                        [{\"coloraxis\": \"coloraxis\", \"geo\": \"geo\", \"hovertemplate\": \"<b>%{hovertext}</b><br><br>iso3=%{location}<br>Confirmed-0(~1130)=%{z}<extra></extra>\", \"hovertext\": [1.0, 2.0, 3.0, 4.0, 5.0, 6.0, 7.0, 8.0, 9.0, 10.0, 11.0, 12.0, 13.0, 14.0, 15.0, 16.0, 17.0, 18.0, 19.0, 20.0, 21.0, 22.0, 23.0, 24.0, 25.0, 26.0, 27.0, 28.0, 29.0, 30.0, 31.0, 32.0, 33.0, 34.0, 35.0, 36.0, 37.0, 38.0, 39.0, 40.0, 41.0, 42.0, 43.0, 44.0, 45.0, 46.0, 47.0, 48.0, 49.0, 50.0, 51.0, 52.0, 53.0, 54.0, 55.0, 56.0, 57.0, 58.0, 59.0, 60.0, 61.0, 62.0, 63.0, 64.0, 65.0, 66.0, 67.0, 68.0, 69.0, 70.0, 71.0, 72.0, 73.0, 74.0, 75.0, 76.0, 77.0, 78.0, 79.0, 80.0, 81.0, 82.0, 83.0, 84.0, 85.0, 86.0, 87.0, 88.0, 89.0, 90.0, 91.0, 92.0, 93.0, 94.0, 95.0, 96.0, 97.0, 98.0, 99.0, 100.0], \"locations\": [\"CYM\", \"SVK\", \"CZE\", \"BEL\", \"AND\", \"LIE\", \"NLD\", \"AUT\", \"FRO\", \"HRV\", \"GIB\", \"SVN\", \"HUN\", \"IMN\", \"BES\", \"GEO\", \"IRL\", \"SMR\", \"CHE\", \"DMA\", \"DNK\", \"DEU\", \"REU\", \"LTU\", \"GBR\", \"POL\", \"GRC\", \"SYC\", \"NOR\", \"LUX\", \"BRB\", \"AIA\", \"SPM\", \"FRA\", \"MCO\", \"MNE\", \"TTO\", \"LVA\", \"EST\", \"JOR\", \"GRL\", \"CYP\", \"ISL\", \"BGR\", \"UKR\", \"PRT\", \"TUR\", \"SRB\", \"USA\", \"MUS\", \"SGP\", \"RUS\", \"LBN\", \"MTQ\", \"FIN\", \"BLZ\", \"ITA\", \"BIH\", \"MLT\", \"MDV\", \"MKD\", \"ESP\", \"LAO\", \"ARM\", \"SWE\", \"BLR\", \"MNG\", \"ABW\", \"AZE\", \"MYS\", \"MDA\", \"GUF\", \"VCT\", \"VNM\", \"ALB\", \"CHL\", \"BRN\", \"NCL\", \"ROU\", \"BLM\", \"THA\", \"GUY\", \"SUR\", \"SXM\", \"KOR\", \"LBY\", \"CAN\", \"BOL\", \"GUM\", \"LCA\", \"MAF\", \"URY\", \"ISR\", \"MYT\", \"BMU\", \"AUS\", \"QAT\", \"IRN\", \"KAZ\", \"COL\"], \"name\": \"\", \"type\": \"choropleth\", \"z\": [2136.770715589949, 2027.7620977886545, 1760.5114766544305, 1620.4158071984627, 1429.2185521073075, 1337.284002412356, 1291.7015992556699, 1269.9382026749247, 1116.779465290668, 1098.6580448062657, 1068.534623489952, 1059.6787196502805, 1048.3648551627473, 1039.9446258887413, 953.43427024141, 947.6001572111646, 921.7530597514706, 867.1274508978531, 866.5398552046348, 765.9687619682621, 719.5214565581201, 699.1089759972363, 640.641464804769, 629.7216992179456, 626.9270382827547, 612.8611611454793, 607.8283155562573, 579.6217205613169, 553.9321063328296, 544.2928893668244, 537.8810964621641, 495.17207229512235, 493.03586835942326, 481.26662049702594, 458.6688410967285, 457.4161695592338, 447.71379635269426, 446.9298622310868, 428.61267446447164, 423.13304671755134, 412.67828205050836, 407.61864690250826, 373.417059131344, 309.91517834976963, 297.1911404708143, 293.2459329411816, 289.66071305619596, 261.340491638627, 248.36402281738785, 231.51141005276233, 226.94640052972682, 225.4534574728168, 213.77998042366485, 212.4213175070576, 206.5487850904106, 204.78941360886841, 204.17132324499627, 198.8617375342936, 191.86138872055744, 186.58521050564428, 186.51010788786724, 185.98249998446929, 181.74359654241042, 175.4839476058925, 173.97297032359762, 171.53159923947325, 169.20832119722243, 165.91691844112938, 163.65095920385232, 157.58159888305403, 154.86366278379032, 147.79215735416594, 142.9253865101616, 138.1261118214552, 137.90296158772253, 117.22288361971525, 116.57595838009729, 102.58016640004227, 94.16043842644805, 86.71146759158832, 81.32831052918534, 77.91623296626702, 77.19585684722448, 76.62222577571603, 76.02729192811914, 75.86434888918406, 75.5408329951606, 75.03255092205654, 71.32897182766465, 70.79491801403803, 66.51565150232844, 60.9473011881138, 60.62177808576962, 59.17187649729645, 55.0571102816861, 53.52997650628822, 53.15503916713143, 50.065424621311, 48.859929029545, 47.47877779209687]}],                        {\"coloraxis\": {\"cmax\": 2136.770715589949, \"cmin\": 47.47877779209687, \"colorbar\": {\"title\": {\"text\": \"Confirmed-0(~1130)\"}}, \"colorscale\": [[0.0, \"rgb(0,0,131)\"], [0.2, \"rgb(0,60,170)\"], [0.4, \"rgb(5,255,255)\"], [0.6, \"rgb(255,255,0)\"], [0.8, \"rgb(250,0,0)\"], [1.0, \"rgb(128,0,0)\"]]}, \"geo\": {\"center\": {}, \"domain\": {\"x\": [0.0, 1.0], \"y\": [0.0, 1.0]}, \"projection\": {\"type\": \"natural earth\"}}, \"legend\": {\"tracegroupgap\": 0}, \"margin\": {\"t\": 60}, \"template\": {\"data\": {\"bar\": [{\"error_x\": {\"color\": \"#2a3f5f\"}, \"error_y\": {\"color\": \"#2a3f5f\"}, \"marker\": {\"line\": {\"color\": \"#E5ECF6\", \"width\": 0.5}}, \"type\": \"bar\"}], \"barpolar\": [{\"marker\": {\"line\": {\"color\": \"#E5ECF6\", \"width\": 0.5}}, \"type\": \"barpolar\"}], \"carpet\": [{\"aaxis\": {\"endlinecolor\": \"#2a3f5f\", \"gridcolor\": \"white\", \"linecolor\": \"white\", \"minorgridcolor\": \"white\", \"startlinecolor\": \"#2a3f5f\"}, \"baxis\": {\"endlinecolor\": \"#2a3f5f\", \"gridcolor\": \"white\", \"linecolor\": \"white\", \"minorgridcolor\": \"white\", \"startlinecolor\": \"#2a3f5f\"}, \"type\": \"carpet\"}], \"choropleth\": [{\"colorbar\": {\"outlinewidth\": 0, \"ticks\": \"\"}, \"type\": \"choropleth\"}], \"contour\": [{\"colorbar\": {\"outlinewidth\": 0, \"ticks\": \"\"}, \"colorscale\": [[0.0, \"#0d0887\"], [0.1111111111111111, \"#46039f\"], [0.2222222222222222, \"#7201a8\"], [0.3333333333333333, \"#9c179e\"], [0.4444444444444444, \"#bd3786\"], [0.5555555555555556, \"#d8576b\"], [0.6666666666666666, \"#ed7953\"], [0.7777777777777778, \"#fb9f3a\"], [0.8888888888888888, \"#fdca26\"], [1.0, \"#f0f921\"]], \"type\": \"contour\"}], \"contourcarpet\": [{\"colorbar\": {\"outlinewidth\": 0, \"ticks\": \"\"}, \"type\": \"contourcarpet\"}], \"heatmap\": [{\"colorbar\": {\"outlinewidth\": 0, \"ticks\": \"\"}, \"colorscale\": [[0.0, \"#0d0887\"], [0.1111111111111111, \"#46039f\"], [0.2222222222222222, \"#7201a8\"], [0.3333333333333333, \"#9c179e\"], [0.4444444444444444, \"#bd3786\"], [0.5555555555555556, \"#d8576b\"], [0.6666666666666666, \"#ed7953\"], [0.7777777777777778, \"#fb9f3a\"], [0.8888888888888888, \"#fdca26\"], [1.0, \"#f0f921\"]], \"type\": \"heatmap\"}], \"heatmapgl\": [{\"colorbar\": {\"outlinewidth\": 0, \"ticks\": \"\"}, \"colorscale\": [[0.0, \"#0d0887\"], [0.1111111111111111, \"#46039f\"], [0.2222222222222222, \"#7201a8\"], [0.3333333333333333, \"#9c179e\"], [0.4444444444444444, \"#bd3786\"], [0.5555555555555556, \"#d8576b\"], [0.6666666666666666, \"#ed7953\"], [0.7777777777777778, \"#fb9f3a\"], [0.8888888888888888, \"#fdca26\"], [1.0, \"#f0f921\"]], \"type\": \"heatmapgl\"}], \"histogram\": [{\"marker\": {\"colorbar\": {\"outlinewidth\": 0, \"ticks\": \"\"}}, \"type\": \"histogram\"}], \"histogram2d\": [{\"colorbar\": {\"outlinewidth\": 0, \"ticks\": \"\"}, \"colorscale\": [[0.0, \"#0d0887\"], [0.1111111111111111, \"#46039f\"], [0.2222222222222222, \"#7201a8\"], [0.3333333333333333, \"#9c179e\"], [0.4444444444444444, \"#bd3786\"], [0.5555555555555556, \"#d8576b\"], [0.6666666666666666, \"#ed7953\"], [0.7777777777777778, \"#fb9f3a\"], [0.8888888888888888, \"#fdca26\"], [1.0, \"#f0f921\"]], \"type\": \"histogram2d\"}], \"histogram2dcontour\": [{\"colorbar\": {\"outlinewidth\": 0, \"ticks\": \"\"}, \"colorscale\": [[0.0, \"#0d0887\"], [0.1111111111111111, \"#46039f\"], [0.2222222222222222, \"#7201a8\"], [0.3333333333333333, \"#9c179e\"], [0.4444444444444444, \"#bd3786\"], [0.5555555555555556, \"#d8576b\"], [0.6666666666666666, \"#ed7953\"], [0.7777777777777778, \"#fb9f3a\"], [0.8888888888888888, \"#fdca26\"], [1.0, \"#f0f921\"]], \"type\": \"histogram2dcontour\"}], \"mesh3d\": [{\"colorbar\": {\"outlinewidth\": 0, \"ticks\": \"\"}, \"type\": \"mesh3d\"}], \"parcoords\": [{\"line\": {\"colorbar\": {\"outlinewidth\": 0, \"ticks\": \"\"}}, \"type\": \"parcoords\"}], \"pie\": [{\"automargin\": true, \"type\": \"pie\"}], \"scatter\": [{\"marker\": {\"colorbar\": {\"outlinewidth\": 0, \"ticks\": \"\"}}, \"type\": \"scatter\"}], \"scatter3d\": [{\"line\": {\"colorbar\": {\"outlinewidth\": 0, \"ticks\": \"\"}}, \"marker\": {\"colorbar\": {\"outlinewidth\": 0, \"ticks\": \"\"}}, \"type\": \"scatter3d\"}], \"scattercarpet\": [{\"marker\": {\"colorbar\": {\"outlinewidth\": 0, \"ticks\": \"\"}}, \"type\": \"scattercarpet\"}], \"scattergeo\": [{\"marker\": {\"colorbar\": {\"outlinewidth\": 0, \"ticks\": \"\"}}, \"type\": \"scattergeo\"}], \"scattergl\": [{\"marker\": {\"colorbar\": {\"outlinewidth\": 0, \"ticks\": \"\"}}, \"type\": \"scattergl\"}], \"scattermapbox\": [{\"marker\": {\"colorbar\": {\"outlinewidth\": 0, \"ticks\": \"\"}}, \"type\": \"scattermapbox\"}], \"scatterpolar\": [{\"marker\": {\"colorbar\": {\"outlinewidth\": 0, \"ticks\": \"\"}}, \"type\": \"scatterpolar\"}], \"scatterpolargl\": [{\"marker\": {\"colorbar\": {\"outlinewidth\": 0, \"ticks\": \"\"}}, \"type\": \"scatterpolargl\"}], \"scatterternary\": [{\"marker\": {\"colorbar\": {\"outlinewidth\": 0, \"ticks\": \"\"}}, \"type\": \"scatterternary\"}], \"surface\": [{\"colorbar\": {\"outlinewidth\": 0, \"ticks\": \"\"}, \"colorscale\": [[0.0, \"#0d0887\"], [0.1111111111111111, \"#46039f\"], [0.2222222222222222, \"#7201a8\"], [0.3333333333333333, \"#9c179e\"], [0.4444444444444444, \"#bd3786\"], [0.5555555555555556, \"#d8576b\"], [0.6666666666666666, \"#ed7953\"], [0.7777777777777778, \"#fb9f3a\"], [0.8888888888888888, \"#fdca26\"], [1.0, \"#f0f921\"]], \"type\": \"surface\"}], \"table\": [{\"cells\": {\"fill\": {\"color\": \"#EBF0F8\"}, \"line\": {\"color\": \"white\"}}, \"header\": {\"fill\": {\"color\": \"#C8D4E3\"}, \"line\": {\"color\": \"white\"}}, \"type\": \"table\"}]}, \"layout\": {\"annotationdefaults\": {\"arrowcolor\": \"#2a3f5f\", \"arrowhead\": 0, \"arrowwidth\": 1}, \"coloraxis\": {\"colorbar\": {\"outlinewidth\": 0, \"ticks\": \"\"}}, \"colorscale\": {\"diverging\": [[0, \"#8e0152\"], [0.1, \"#c51b7d\"], [0.2, \"#de77ae\"], [0.3, \"#f1b6da\"], [0.4, \"#fde0ef\"], [0.5, \"#f7f7f7\"], [0.6, \"#e6f5d0\"], [0.7, \"#b8e186\"], [0.8, \"#7fbc41\"], [0.9, \"#4d9221\"], [1, \"#276419\"]], \"sequential\": [[0.0, \"#0d0887\"], [0.1111111111111111, \"#46039f\"], [0.2222222222222222, \"#7201a8\"], [0.3333333333333333, \"#9c179e\"], [0.4444444444444444, \"#bd3786\"], [0.5555555555555556, \"#d8576b\"], [0.6666666666666666, \"#ed7953\"], [0.7777777777777778, \"#fb9f3a\"], [0.8888888888888888, \"#fdca26\"], [1.0, \"#f0f921\"]], \"sequentialminus\": [[0.0, \"#0d0887\"], [0.1111111111111111, \"#46039f\"], [0.2222222222222222, \"#7201a8\"], [0.3333333333333333, \"#9c179e\"], [0.4444444444444444, \"#bd3786\"], [0.5555555555555556, \"#d8576b\"], [0.6666666666666666, \"#ed7953\"], [0.7777777777777778, \"#fb9f3a\"], [0.8888888888888888, \"#fdca26\"], [1.0, \"#f0f921\"]]}, \"colorway\": [\"#636efa\", \"#EF553B\", \"#00cc96\", \"#ab63fa\", \"#FFA15A\", \"#19d3f3\", \"#FF6692\", \"#B6E880\", \"#FF97FF\", \"#FECB52\"], \"font\": {\"color\": \"#2a3f5f\"}, \"geo\": {\"bgcolor\": \"white\", \"lakecolor\": \"white\", \"landcolor\": \"#E5ECF6\", \"showlakes\": true, \"showland\": true, \"subunitcolor\": \"white\"}, \"hoverlabel\": {\"align\": \"left\"}, \"hovermode\": \"closest\", \"mapbox\": {\"style\": \"light\"}, \"paper_bgcolor\": \"white\", \"plot_bgcolor\": \"#E5ECF6\", \"polar\": {\"angularaxis\": {\"gridcolor\": \"white\", \"linecolor\": \"white\", \"ticks\": \"\"}, \"bgcolor\": \"#E5ECF6\", \"radialaxis\": {\"gridcolor\": \"white\", \"linecolor\": \"white\", \"ticks\": \"\"}}, \"scene\": {\"xaxis\": {\"backgroundcolor\": \"#E5ECF6\", \"gridcolor\": \"white\", \"gridwidth\": 2, \"linecolor\": \"white\", \"showbackground\": true, \"ticks\": \"\", \"zerolinecolor\": \"white\"}, \"yaxis\": {\"backgroundcolor\": \"#E5ECF6\", \"gridcolor\": \"white\", \"gridwidth\": 2, \"linecolor\": \"white\", \"showbackground\": true, \"ticks\": \"\", \"zerolinecolor\": \"white\"}, \"zaxis\": {\"backgroundcolor\": \"#E5ECF6\", \"gridcolor\": \"white\", \"gridwidth\": 2, \"linecolor\": \"white\", \"showbackground\": true, \"ticks\": \"\", \"zerolinecolor\": \"white\"}}, \"shapedefaults\": {\"line\": {\"color\": \"#2a3f5f\"}}, \"ternary\": {\"aaxis\": {\"gridcolor\": \"white\", \"linecolor\": \"white\", \"ticks\": \"\"}, \"baxis\": {\"gridcolor\": \"white\", \"linecolor\": \"white\", \"ticks\": \"\"}, \"bgcolor\": \"#E5ECF6\", \"caxis\": {\"gridcolor\": \"white\", \"linecolor\": \"white\", \"ticks\": \"\"}}, \"title\": {\"x\": 0.05}, \"xaxis\": {\"automargin\": true, \"gridcolor\": \"white\", \"linecolor\": \"white\", \"ticks\": \"\", \"title\": {\"standoff\": 15}, \"zerolinecolor\": \"white\", \"zerolinewidth\": 2}, \"yaxis\": {\"automargin\": true, \"gridcolor\": \"white\", \"linecolor\": \"white\", \"ticks\": \"\", \"title\": {\"standoff\": 15}, \"zerolinecolor\": \"white\", \"zerolinewidth\": 2}}}},                        {\"responsive\": true}                    ).then(function(){\n",
       "                            \n",
       "var gd = document.getElementById('a3827d8b-c92d-4555-a488-200f7f71d7ad');\n",
       "var x = new MutationObserver(function (mutations, observer) {{\n",
       "        var display = window.getComputedStyle(gd).display;\n",
       "        if (!display || display === 'none') {{\n",
       "            console.log([gd, 'removed!']);\n",
       "            Plotly.purge(gd);\n",
       "            observer.disconnect();\n",
       "        }}\n",
       "}});\n",
       "\n",
       "// Listen for the removal of the full notebook cells\n",
       "var notebookContainer = gd.closest('#notebook-container');\n",
       "if (notebookContainer) {{\n",
       "    x.observe(notebookContainer, {childList: true});\n",
       "}}\n",
       "\n",
       "// Listen for the clearing of the current output cell\n",
       "var outputEl = gd.closest('.output');\n",
       "if (outputEl) {{\n",
       "    x.observe(outputEl, {childList: true});\n",
       "}}\n",
       "\n",
       "                        })                };                });            </script>        </div>"
      ]
     },
     "metadata": {},
     "output_type": "display_data"
    }
   ],
   "source": [
    "\n",
    "def plot_world_ranking(col=\"Confirmed\",ylim=None,N=None):\n",
    "    if col ==\"Confirmed\":\n",
    "        df = mk_diff(df_c,col =col)\n",
    "    if col ==\"Deaths\":\n",
    "        df = mk_diff(df_d,col =col)\n",
    "        \n",
    "    df = df.sort_values(f\"{col}-0(~1130)\",ascending=False)\n",
    "    df[\"rank\"] = np.arange(len(df)) + 1\n",
    "    df.index.name = \"iso3\"\n",
    "    df = df.reset_index()\n",
    "    if N:\n",
    "        df = df.iloc[:N,:]\n",
    "    print(\"shape=>\",df.shape)\n",
    "    if ylim:\n",
    "        vmin,vmax = ylim\n",
    "    else:\n",
    "        vmin,vmax = None,None\n",
    "    plotly_map(df,col=f\"{col}-0(~1130)\",vmin=vmin,vmax=vmax,color='Jet')\n",
    "    return \n",
    "#---------\n",
    "\n",
    "col = \"Confirmed\"\n",
    "# col = \"Deaths\"\n",
    "plot_world_ranking(col=\"Confirmed\",ylim=[None,None],N=100)"
   ]
  },
  {
   "cell_type": "code",
   "execution_count": null,
   "id": "0e2ec8c2",
   "metadata": {},
   "outputs": [],
   "source": []
  }
 ],
 "metadata": {
  "kernelspec": {
   "display_name": "Python 3",
   "language": "python",
   "name": "python3"
  },
  "language_info": {
   "codemirror_mode": {
    "name": "ipython",
    "version": 3
   },
   "file_extension": ".py",
   "mimetype": "text/x-python",
   "name": "python",
   "nbconvert_exporter": "python",
   "pygments_lexer": "ipython3",
   "version": "3.7.9"
  }
 },
 "nbformat": 4,
 "nbformat_minor": 5
}
